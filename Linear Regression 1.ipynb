{
 "cells": [
  {
   "cell_type": "code",
   "execution_count": 1,
   "id": "a9341506",
   "metadata": {},
   "outputs": [],
   "source": [
    "import pandas as pd\n",
    "import numpy as np\n",
    "from sklearn.model_selection import train_test_split\n",
    "from sklearn.metrics import mean_squared_error"
   ]
  },
  {
   "cell_type": "code",
   "execution_count": 2,
   "id": "6bfcd626",
   "metadata": {},
   "outputs": [],
   "source": [
    "df = pd.read_csv('HousePrices.csv')"
   ]
  },
  {
   "cell_type": "code",
   "execution_count": 3,
   "id": "cdb5901c",
   "metadata": {
    "scrolled": true
   },
   "outputs": [
    {
     "data": {
      "text/plain": [
       "Id                     0.000000\n",
       "Dwell_Type             0.000000\n",
       "Zone_Class             0.000000\n",
       "LotFrontage            0.154366\n",
       "LotArea                0.000000\n",
       "                         ...   \n",
       "MoSold                 0.000000\n",
       "YrSold                 0.000000\n",
       "SaleType               0.000000\n",
       "SaleCondition          0.000000\n",
       "Property_Sale_Price    0.000000\n",
       "Length: 81, dtype: float64"
      ]
     },
     "execution_count": 3,
     "metadata": {},
     "output_type": "execute_result"
    }
   ],
   "source": [
    "df.isna().sum()/df.shape[0]"
   ]
  },
  {
   "cell_type": "code",
   "execution_count": 112,
   "id": "152c8b31",
   "metadata": {},
   "outputs": [],
   "source": [
    "#conda install -c districtdatalabs yellowbrick\n",
    "from yellowbrick.regressor import CooksDistance"
   ]
  },
  {
   "cell_type": "code",
   "execution_count": 5,
   "id": "ee932cf5",
   "metadata": {},
   "outputs": [],
   "source": [
    "X = df.iloc[:,:-1]\n",
    "y = df.iloc[:,-1]"
   ]
  },
  {
   "cell_type": "code",
   "execution_count": 6,
   "id": "eb4ed9d5",
   "metadata": {},
   "outputs": [
    {
     "ename": "NameError",
     "evalue": "name 'bos' is not defined",
     "output_type": "error",
     "traceback": [
      "\u001b[1;31m---------------------------------------------------------------------------\u001b[0m",
      "\u001b[1;31mNameError\u001b[0m                                 Traceback (most recent call last)",
      "\u001b[1;32m<ipython-input-6-92584c571ec2>\u001b[0m in \u001b[0;36m<module>\u001b[1;34m\u001b[0m\n\u001b[0;32m      1\u001b[0m \u001b[0mvisualizer\u001b[0m \u001b[1;33m=\u001b[0m \u001b[0mCooksDistance\u001b[0m\u001b[1;33m(\u001b[0m\u001b[1;33m)\u001b[0m\u001b[1;33m\u001b[0m\u001b[1;33m\u001b[0m\u001b[0m\n\u001b[1;32m----> 2\u001b[1;33m \u001b[0mvisualizer\u001b[0m\u001b[1;33m.\u001b[0m\u001b[0mfit\u001b[0m\u001b[1;33m(\u001b[0m\u001b[0mbos\u001b[0m\u001b[1;33m.\u001b[0m\u001b[0miloc\u001b[0m\u001b[1;33m[\u001b[0m\u001b[1;33m:\u001b[0m\u001b[1;33m,\u001b[0m\u001b[1;33m:\u001b[0m\u001b[1;33m-\u001b[0m\u001b[1;36m1\u001b[0m\u001b[1;33m]\u001b[0m\u001b[1;33m,\u001b[0m \u001b[0mbos\u001b[0m\u001b[1;33m.\u001b[0m\u001b[0miloc\u001b[0m\u001b[1;33m[\u001b[0m\u001b[1;33m:\u001b[0m\u001b[1;33m,\u001b[0m\u001b[1;33m-\u001b[0m\u001b[1;36m1\u001b[0m\u001b[1;33m]\u001b[0m\u001b[1;33m)\u001b[0m\u001b[1;33m\u001b[0m\u001b[1;33m\u001b[0m\u001b[0m\n\u001b[0m\u001b[0;32m      3\u001b[0m \u001b[0mvisualizer\u001b[0m\u001b[1;33m.\u001b[0m\u001b[0mshow\u001b[0m\u001b[1;33m(\u001b[0m\u001b[1;33m)\u001b[0m\u001b[1;33m\u001b[0m\u001b[1;33m\u001b[0m\u001b[0m\n",
      "\u001b[1;31mNameError\u001b[0m: name 'bos' is not defined"
     ]
    }
   ],
   "source": [
    "visualizer = CooksDistance()\n",
    "visualizer.fit(bos.iloc[:,:-1], bos.iloc[:,-1])\n",
    "visualizer.show()"
   ]
  },
  {
   "cell_type": "code",
   "execution_count": 30,
   "id": "4a82e20a",
   "metadata": {},
   "outputs": [
    {
     "data": {
      "text/plain": [
       "0.007905138339920948"
      ]
     },
     "execution_count": 30,
     "metadata": {},
     "output_type": "execute_result"
    }
   ],
   "source": [
    "4/506"
   ]
  },
  {
   "cell_type": "code",
   "execution_count": 29,
   "id": "56775d03",
   "metadata": {},
   "outputs": [
    {
     "data": {
      "text/plain": [
       "0.007905138339920948"
      ]
     },
     "execution_count": 29,
     "metadata": {},
     "output_type": "execute_result"
    }
   ],
   "source": [
    "visualizer.influence_threshold_"
   ]
  },
  {
   "cell_type": "code",
   "execution_count": 7,
   "id": "3ccc7773",
   "metadata": {},
   "outputs": [],
   "source": [
    "import pandas as pd\n",
    "from sklearn.datasets import load_boston\n",
    "\n",
    "#imports dataset\n",
    "boston = load_boston()\n",
    "\n",
    "#generates DataFrame bos\n",
    "bos = pd.DataFrame(boston.data)\n",
    "\n",
    "#adds columns names to bos\n",
    "bos.columns = boston.feature_names \n",
    "\n",
    "#adds column 'PRICE' to bos\n",
    "bos['PRICE'] = boston.target"
   ]
  },
  {
   "cell_type": "code",
   "execution_count": 14,
   "id": "2de70026",
   "metadata": {},
   "outputs": [],
   "source": [
    "from statsmodels.formula.api import ols\n",
    "\n",
    "m = ols('PRICE ~ RM',bos).fit()\n",
    "infl = m.get_influence()\n",
    "sm_fr = infl.summary_frame()"
   ]
  },
  {
   "cell_type": "code",
   "execution_count": 15,
   "id": "dd4112ad",
   "metadata": {},
   "outputs": [
    {
     "data": {
      "text/html": [
       "<div>\n",
       "<style scoped>\n",
       "    .dataframe tbody tr th:only-of-type {\n",
       "        vertical-align: middle;\n",
       "    }\n",
       "\n",
       "    .dataframe tbody tr th {\n",
       "        vertical-align: top;\n",
       "    }\n",
       "\n",
       "    .dataframe thead th {\n",
       "        text-align: right;\n",
       "    }\n",
       "</style>\n",
       "<table border=\"1\" class=\"dataframe\">\n",
       "  <thead>\n",
       "    <tr style=\"text-align: right;\">\n",
       "      <th></th>\n",
       "      <th>dfb_Intercept</th>\n",
       "      <th>dfb_RM</th>\n",
       "      <th>cooks_d</th>\n",
       "      <th>standard_resid</th>\n",
       "      <th>hat_diag</th>\n",
       "      <th>dffits_internal</th>\n",
       "      <th>student_resid</th>\n",
       "      <th>dffits</th>\n",
       "    </tr>\n",
       "  </thead>\n",
       "  <tbody>\n",
       "    <tr>\n",
       "      <th>0</th>\n",
       "      <td>0.002374</td>\n",
       "      <td>-0.003272</td>\n",
       "      <td>0.000037</td>\n",
       "      <td>-0.177914</td>\n",
       "      <td>0.002314</td>\n",
       "      <td>-0.008569</td>\n",
       "      <td>-0.177743</td>\n",
       "      <td>-0.008561</td>\n",
       "    </tr>\n",
       "    <tr>\n",
       "      <th>1</th>\n",
       "      <td>0.001200</td>\n",
       "      <td>-0.002841</td>\n",
       "      <td>0.000111</td>\n",
       "      <td>-0.328930</td>\n",
       "      <td>0.002051</td>\n",
       "      <td>-0.014911</td>\n",
       "      <td>-0.328639</td>\n",
       "      <td>-0.014898</td>\n",
       "    </tr>\n",
       "    <tr>\n",
       "      <th>2</th>\n",
       "      <td>-0.031203</td>\n",
       "      <td>0.034392</td>\n",
       "      <td>0.000952</td>\n",
       "      <td>0.601919</td>\n",
       "      <td>0.005228</td>\n",
       "      <td>0.043636</td>\n",
       "      <td>0.601538</td>\n",
       "      <td>0.043608</td>\n",
       "    </tr>\n",
       "    <tr>\n",
       "      <th>3</th>\n",
       "      <td>-0.026514</td>\n",
       "      <td>0.029973</td>\n",
       "      <td>0.000885</td>\n",
       "      <td>0.662450</td>\n",
       "      <td>0.004018</td>\n",
       "      <td>0.042073</td>\n",
       "      <td>0.662081</td>\n",
       "      <td>0.042050</td>\n",
       "    </tr>\n",
       "    <tr>\n",
       "      <th>4</th>\n",
       "      <td>-0.043598</td>\n",
       "      <td>0.048255</td>\n",
       "      <td>0.001937</td>\n",
       "      <td>0.881528</td>\n",
       "      <td>0.004959</td>\n",
       "      <td>0.062234</td>\n",
       "      <td>0.881332</td>\n",
       "      <td>0.062220</td>\n",
       "    </tr>\n",
       "    <tr>\n",
       "      <th>...</th>\n",
       "      <td>...</td>\n",
       "      <td>...</td>\n",
       "      <td>...</td>\n",
       "      <td>...</td>\n",
       "      <td>...</td>\n",
       "      <td>...</td>\n",
       "      <td>...</td>\n",
       "      <td>...</td>\n",
       "    </tr>\n",
       "    <tr>\n",
       "      <th>501</th>\n",
       "      <td>0.006441</td>\n",
       "      <td>-0.008691</td>\n",
       "      <td>0.000234</td>\n",
       "      <td>-0.444828</td>\n",
       "      <td>0.002358</td>\n",
       "      <td>-0.021625</td>\n",
       "      <td>-0.444474</td>\n",
       "      <td>-0.021607</td>\n",
       "    </tr>\n",
       "    <tr>\n",
       "      <th>502</th>\n",
       "      <td>-0.001005</td>\n",
       "      <td>0.000685</td>\n",
       "      <td>0.000005</td>\n",
       "      <td>-0.065709</td>\n",
       "      <td>0.002085</td>\n",
       "      <td>-0.003004</td>\n",
       "      <td>-0.065644</td>\n",
       "      <td>-0.003001</td>\n",
       "    </tr>\n",
       "    <tr>\n",
       "      <th>503</th>\n",
       "      <td>0.028823</td>\n",
       "      <td>-0.032712</td>\n",
       "      <td>0.001087</td>\n",
       "      <td>-0.745948</td>\n",
       "      <td>0.003894</td>\n",
       "      <td>-0.046637</td>\n",
       "      <td>-0.745619</td>\n",
       "      <td>-0.046616</td>\n",
       "    </tr>\n",
       "    <tr>\n",
       "      <th>504</th>\n",
       "      <td>0.021249</td>\n",
       "      <td>-0.025271</td>\n",
       "      <td>0.000926</td>\n",
       "      <td>-0.782466</td>\n",
       "      <td>0.003017</td>\n",
       "      <td>-0.043044</td>\n",
       "      <td>-0.782165</td>\n",
       "      <td>-0.043027</td>\n",
       "    </tr>\n",
       "    <tr>\n",
       "      <th>505</th>\n",
       "      <td>-0.026419</td>\n",
       "      <td>0.020325</td>\n",
       "      <td>0.001774</td>\n",
       "      <td>-1.258194</td>\n",
       "      <td>0.002236</td>\n",
       "      <td>-0.059567</td>\n",
       "      <td>-1.258923</td>\n",
       "      <td>-0.059601</td>\n",
       "    </tr>\n",
       "  </tbody>\n",
       "</table>\n",
       "<p>506 rows × 8 columns</p>\n",
       "</div>"
      ],
      "text/plain": [
       "     dfb_Intercept    dfb_RM   cooks_d  standard_resid  hat_diag  \\\n",
       "0         0.002374 -0.003272  0.000037       -0.177914  0.002314   \n",
       "1         0.001200 -0.002841  0.000111       -0.328930  0.002051   \n",
       "2        -0.031203  0.034392  0.000952        0.601919  0.005228   \n",
       "3        -0.026514  0.029973  0.000885        0.662450  0.004018   \n",
       "4        -0.043598  0.048255  0.001937        0.881528  0.004959   \n",
       "..             ...       ...       ...             ...       ...   \n",
       "501       0.006441 -0.008691  0.000234       -0.444828  0.002358   \n",
       "502      -0.001005  0.000685  0.000005       -0.065709  0.002085   \n",
       "503       0.028823 -0.032712  0.001087       -0.745948  0.003894   \n",
       "504       0.021249 -0.025271  0.000926       -0.782466  0.003017   \n",
       "505      -0.026419  0.020325  0.001774       -1.258194  0.002236   \n",
       "\n",
       "     dffits_internal  student_resid    dffits  \n",
       "0          -0.008569      -0.177743 -0.008561  \n",
       "1          -0.014911      -0.328639 -0.014898  \n",
       "2           0.043636       0.601538  0.043608  \n",
       "3           0.042073       0.662081  0.042050  \n",
       "4           0.062234       0.881332  0.062220  \n",
       "..               ...            ...       ...  \n",
       "501        -0.021625      -0.444474 -0.021607  \n",
       "502        -0.003004      -0.065644 -0.003001  \n",
       "503        -0.046637      -0.745619 -0.046616  \n",
       "504        -0.043044      -0.782165 -0.043027  \n",
       "505        -0.059567      -1.258923 -0.059601  \n",
       "\n",
       "[506 rows x 8 columns]"
      ]
     },
     "execution_count": 15,
     "metadata": {},
     "output_type": "execute_result"
    }
   ],
   "source": [
    "sm_fr"
   ]
  },
  {
   "cell_type": "code",
   "execution_count": 17,
   "id": "c6b222d2",
   "metadata": {},
   "outputs": [
    {
     "ename": "AttributeError",
     "evalue": "'OLSResults' object has no attribute 'dffits'",
     "output_type": "error",
     "traceback": [
      "\u001b[1;31m---------------------------------------------------------------------------\u001b[0m",
      "\u001b[1;31mAttributeError\u001b[0m                            Traceback (most recent call last)",
      "\u001b[1;32m<ipython-input-17-9b8dcedd2640>\u001b[0m in \u001b[0;36m<module>\u001b[1;34m\u001b[0m\n\u001b[1;32m----> 1\u001b[1;33m \u001b[1;33m(\u001b[0m\u001b[0mc\u001b[0m\u001b[1;33m,\u001b[0m\u001b[0mp\u001b[0m\u001b[1;33m)\u001b[0m \u001b[1;33m=\u001b[0m \u001b[0mm\u001b[0m\u001b[1;33m.\u001b[0m\u001b[0mdffits\u001b[0m\u001b[1;33m(\u001b[0m\u001b[1;33m)\u001b[0m\u001b[1;33m\u001b[0m\u001b[1;33m\u001b[0m\u001b[0m\n\u001b[0m",
      "\u001b[1;32mC:\\ProgramData\\Anaconda3\\lib\\site-packages\\statsmodels\\base\\wrapper.py\u001b[0m in \u001b[0;36m__getattribute__\u001b[1;34m(self, attr)\u001b[0m\n\u001b[0;32m     32\u001b[0m             \u001b[1;32mpass\u001b[0m\u001b[1;33m\u001b[0m\u001b[1;33m\u001b[0m\u001b[0m\n\u001b[0;32m     33\u001b[0m \u001b[1;33m\u001b[0m\u001b[0m\n\u001b[1;32m---> 34\u001b[1;33m         \u001b[0mobj\u001b[0m \u001b[1;33m=\u001b[0m \u001b[0mgetattr\u001b[0m\u001b[1;33m(\u001b[0m\u001b[0mresults\u001b[0m\u001b[1;33m,\u001b[0m \u001b[0mattr\u001b[0m\u001b[1;33m)\u001b[0m\u001b[1;33m\u001b[0m\u001b[1;33m\u001b[0m\u001b[0m\n\u001b[0m\u001b[0;32m     35\u001b[0m         \u001b[0mdata\u001b[0m \u001b[1;33m=\u001b[0m \u001b[0mresults\u001b[0m\u001b[1;33m.\u001b[0m\u001b[0mmodel\u001b[0m\u001b[1;33m.\u001b[0m\u001b[0mdata\u001b[0m\u001b[1;33m\u001b[0m\u001b[1;33m\u001b[0m\u001b[0m\n\u001b[0;32m     36\u001b[0m         \u001b[0mhow\u001b[0m \u001b[1;33m=\u001b[0m \u001b[0mself\u001b[0m\u001b[1;33m.\u001b[0m\u001b[0m_wrap_attrs\u001b[0m\u001b[1;33m.\u001b[0m\u001b[0mget\u001b[0m\u001b[1;33m(\u001b[0m\u001b[0mattr\u001b[0m\u001b[1;33m)\u001b[0m\u001b[1;33m\u001b[0m\u001b[1;33m\u001b[0m\u001b[0m\n",
      "\u001b[1;31mAttributeError\u001b[0m: 'OLSResults' object has no attribute 'dffits'"
     ]
    }
   ],
   "source": [
    "(c,p) = m.dffits"
   ]
  },
  {
   "cell_type": "code",
   "execution_count": 18,
   "id": "6c74487e",
   "metadata": {},
   "outputs": [
    {
     "ename": "AttributeError",
     "evalue": "'OLSResults' object has no attribute 'cooks_distance'",
     "output_type": "error",
     "traceback": [
      "\u001b[1;31m---------------------------------------------------------------------------\u001b[0m",
      "\u001b[1;31mAttributeError\u001b[0m                            Traceback (most recent call last)",
      "\u001b[1;32m<ipython-input-18-d8ba198ec8d5>\u001b[0m in \u001b[0;36m<module>\u001b[1;34m\u001b[0m\n\u001b[1;32m----> 1\u001b[1;33m \u001b[1;33m(\u001b[0m\u001b[0mc\u001b[0m\u001b[1;33m,\u001b[0m\u001b[0mp\u001b[0m\u001b[1;33m)\u001b[0m \u001b[1;33m=\u001b[0m \u001b[0mm\u001b[0m\u001b[1;33m.\u001b[0m\u001b[0mcooks_distance\u001b[0m\u001b[1;33m\u001b[0m\u001b[1;33m\u001b[0m\u001b[0m\n\u001b[0m",
      "\u001b[1;32mC:\\ProgramData\\Anaconda3\\lib\\site-packages\\statsmodels\\base\\wrapper.py\u001b[0m in \u001b[0;36m__getattribute__\u001b[1;34m(self, attr)\u001b[0m\n\u001b[0;32m     32\u001b[0m             \u001b[1;32mpass\u001b[0m\u001b[1;33m\u001b[0m\u001b[1;33m\u001b[0m\u001b[0m\n\u001b[0;32m     33\u001b[0m \u001b[1;33m\u001b[0m\u001b[0m\n\u001b[1;32m---> 34\u001b[1;33m         \u001b[0mobj\u001b[0m \u001b[1;33m=\u001b[0m \u001b[0mgetattr\u001b[0m\u001b[1;33m(\u001b[0m\u001b[0mresults\u001b[0m\u001b[1;33m,\u001b[0m \u001b[0mattr\u001b[0m\u001b[1;33m)\u001b[0m\u001b[1;33m\u001b[0m\u001b[1;33m\u001b[0m\u001b[0m\n\u001b[0m\u001b[0;32m     35\u001b[0m         \u001b[0mdata\u001b[0m \u001b[1;33m=\u001b[0m \u001b[0mresults\u001b[0m\u001b[1;33m.\u001b[0m\u001b[0mmodel\u001b[0m\u001b[1;33m.\u001b[0m\u001b[0mdata\u001b[0m\u001b[1;33m\u001b[0m\u001b[1;33m\u001b[0m\u001b[0m\n\u001b[0;32m     36\u001b[0m         \u001b[0mhow\u001b[0m \u001b[1;33m=\u001b[0m \u001b[0mself\u001b[0m\u001b[1;33m.\u001b[0m\u001b[0m_wrap_attrs\u001b[0m\u001b[1;33m.\u001b[0m\u001b[0mget\u001b[0m\u001b[1;33m(\u001b[0m\u001b[0mattr\u001b[0m\u001b[1;33m)\u001b[0m\u001b[1;33m\u001b[0m\u001b[1;33m\u001b[0m\u001b[0m\n",
      "\u001b[1;31mAttributeError\u001b[0m: 'OLSResults' object has no attribute 'cooks_distance'"
     ]
    }
   ],
   "source": [
    "(c,p) = m.cooks_distance"
   ]
  },
  {
   "cell_type": "code",
   "execution_count": 22,
   "id": "0201a9e6",
   "metadata": {},
   "outputs": [],
   "source": [
    "sm = m.get_influence().summary_frame()"
   ]
  },
  {
   "cell_type": "code",
   "execution_count": 24,
   "id": "de313ac9",
   "metadata": {},
   "outputs": [
    {
     "data": {
      "text/html": [
       "<div>\n",
       "<style scoped>\n",
       "    .dataframe tbody tr th:only-of-type {\n",
       "        vertical-align: middle;\n",
       "    }\n",
       "\n",
       "    .dataframe tbody tr th {\n",
       "        vertical-align: top;\n",
       "    }\n",
       "\n",
       "    .dataframe thead th {\n",
       "        text-align: right;\n",
       "    }\n",
       "</style>\n",
       "<table border=\"1\" class=\"dataframe\">\n",
       "  <thead>\n",
       "    <tr style=\"text-align: right;\">\n",
       "      <th></th>\n",
       "      <th>cooks_d</th>\n",
       "      <th>dffits</th>\n",
       "    </tr>\n",
       "  </thead>\n",
       "  <tbody>\n",
       "    <tr>\n",
       "      <th>0</th>\n",
       "      <td>0.000037</td>\n",
       "      <td>-0.008561</td>\n",
       "    </tr>\n",
       "    <tr>\n",
       "      <th>1</th>\n",
       "      <td>0.000111</td>\n",
       "      <td>-0.014898</td>\n",
       "    </tr>\n",
       "    <tr>\n",
       "      <th>2</th>\n",
       "      <td>0.000952</td>\n",
       "      <td>0.043608</td>\n",
       "    </tr>\n",
       "    <tr>\n",
       "      <th>3</th>\n",
       "      <td>0.000885</td>\n",
       "      <td>0.042050</td>\n",
       "    </tr>\n",
       "    <tr>\n",
       "      <th>4</th>\n",
       "      <td>0.001937</td>\n",
       "      <td>0.062220</td>\n",
       "    </tr>\n",
       "    <tr>\n",
       "      <th>...</th>\n",
       "      <td>...</td>\n",
       "      <td>...</td>\n",
       "    </tr>\n",
       "    <tr>\n",
       "      <th>501</th>\n",
       "      <td>0.000234</td>\n",
       "      <td>-0.021607</td>\n",
       "    </tr>\n",
       "    <tr>\n",
       "      <th>502</th>\n",
       "      <td>0.000005</td>\n",
       "      <td>-0.003001</td>\n",
       "    </tr>\n",
       "    <tr>\n",
       "      <th>503</th>\n",
       "      <td>0.001087</td>\n",
       "      <td>-0.046616</td>\n",
       "    </tr>\n",
       "    <tr>\n",
       "      <th>504</th>\n",
       "      <td>0.000926</td>\n",
       "      <td>-0.043027</td>\n",
       "    </tr>\n",
       "    <tr>\n",
       "      <th>505</th>\n",
       "      <td>0.001774</td>\n",
       "      <td>-0.059601</td>\n",
       "    </tr>\n",
       "  </tbody>\n",
       "</table>\n",
       "<p>506 rows × 2 columns</p>\n",
       "</div>"
      ],
      "text/plain": [
       "      cooks_d    dffits\n",
       "0    0.000037 -0.008561\n",
       "1    0.000111 -0.014898\n",
       "2    0.000952  0.043608\n",
       "3    0.000885  0.042050\n",
       "4    0.001937  0.062220\n",
       "..        ...       ...\n",
       "501  0.000234 -0.021607\n",
       "502  0.000005 -0.003001\n",
       "503  0.001087 -0.046616\n",
       "504  0.000926 -0.043027\n",
       "505  0.001774 -0.059601\n",
       "\n",
       "[506 rows x 2 columns]"
      ]
     },
     "execution_count": 24,
     "metadata": {},
     "output_type": "execute_result"
    }
   ],
   "source": [
    "sm[['cooks_d','dffits']]"
   ]
  },
  {
   "cell_type": "code",
   "execution_count": 31,
   "id": "324afb61",
   "metadata": {},
   "outputs": [
    {
     "data": {
      "text/html": [
       "<table class=\"simpletable\">\n",
       "<caption>OLS Regression Results</caption>\n",
       "<tr>\n",
       "  <th>Dep. Variable:</th>          <td>PRICE</td>      <th>  R-squared:         </th> <td>   0.484</td>\n",
       "</tr>\n",
       "<tr>\n",
       "  <th>Model:</th>                   <td>OLS</td>       <th>  Adj. R-squared:    </th> <td>   0.483</td>\n",
       "</tr>\n",
       "<tr>\n",
       "  <th>Method:</th>             <td>Least Squares</td>  <th>  F-statistic:       </th> <td>   471.8</td>\n",
       "</tr>\n",
       "<tr>\n",
       "  <th>Date:</th>             <td>Fri, 09 Apr 2021</td> <th>  Prob (F-statistic):</th> <td>2.49e-74</td>\n",
       "</tr>\n",
       "<tr>\n",
       "  <th>Time:</th>                 <td>12:41:58</td>     <th>  Log-Likelihood:    </th> <td> -1673.1</td>\n",
       "</tr>\n",
       "<tr>\n",
       "  <th>No. Observations:</th>      <td>   506</td>      <th>  AIC:               </th> <td>   3350.</td>\n",
       "</tr>\n",
       "<tr>\n",
       "  <th>Df Residuals:</th>          <td>   504</td>      <th>  BIC:               </th> <td>   3359.</td>\n",
       "</tr>\n",
       "<tr>\n",
       "  <th>Df Model:</th>              <td>     1</td>      <th>                     </th>     <td> </td>   \n",
       "</tr>\n",
       "<tr>\n",
       "  <th>Covariance Type:</th>      <td>nonrobust</td>    <th>                     </th>     <td> </td>   \n",
       "</tr>\n",
       "</table>\n",
       "<table class=\"simpletable\">\n",
       "<tr>\n",
       "      <td></td>         <th>coef</th>     <th>std err</th>      <th>t</th>      <th>P>|t|</th>  <th>[0.025</th>    <th>0.975]</th>  \n",
       "</tr>\n",
       "<tr>\n",
       "  <th>Intercept</th> <td>  -34.6706</td> <td>    2.650</td> <td>  -13.084</td> <td> 0.000</td> <td>  -39.877</td> <td>  -29.465</td>\n",
       "</tr>\n",
       "<tr>\n",
       "  <th>RM</th>        <td>    9.1021</td> <td>    0.419</td> <td>   21.722</td> <td> 0.000</td> <td>    8.279</td> <td>    9.925</td>\n",
       "</tr>\n",
       "</table>\n",
       "<table class=\"simpletable\">\n",
       "<tr>\n",
       "  <th>Omnibus:</th>       <td>102.585</td> <th>  Durbin-Watson:     </th> <td>   0.684</td> \n",
       "</tr>\n",
       "<tr>\n",
       "  <th>Prob(Omnibus):</th> <td> 0.000</td>  <th>  Jarque-Bera (JB):  </th> <td> 612.449</td> \n",
       "</tr>\n",
       "<tr>\n",
       "  <th>Skew:</th>          <td> 0.726</td>  <th>  Prob(JB):          </th> <td>1.02e-133</td>\n",
       "</tr>\n",
       "<tr>\n",
       "  <th>Kurtosis:</th>      <td> 8.190</td>  <th>  Cond. No.          </th> <td>    58.4</td> \n",
       "</tr>\n",
       "</table><br/><br/>Notes:<br/>[1] Standard Errors assume that the covariance matrix of the errors is correctly specified."
      ],
      "text/plain": [
       "<class 'statsmodels.iolib.summary.Summary'>\n",
       "\"\"\"\n",
       "                            OLS Regression Results                            \n",
       "==============================================================================\n",
       "Dep. Variable:                  PRICE   R-squared:                       0.484\n",
       "Model:                            OLS   Adj. R-squared:                  0.483\n",
       "Method:                 Least Squares   F-statistic:                     471.8\n",
       "Date:                Fri, 09 Apr 2021   Prob (F-statistic):           2.49e-74\n",
       "Time:                        12:41:58   Log-Likelihood:                -1673.1\n",
       "No. Observations:                 506   AIC:                             3350.\n",
       "Df Residuals:                     504   BIC:                             3359.\n",
       "Df Model:                           1                                         \n",
       "Covariance Type:            nonrobust                                         \n",
       "==============================================================================\n",
       "                 coef    std err          t      P>|t|      [0.025      0.975]\n",
       "------------------------------------------------------------------------------\n",
       "Intercept    -34.6706      2.650    -13.084      0.000     -39.877     -29.465\n",
       "RM             9.1021      0.419     21.722      0.000       8.279       9.925\n",
       "==============================================================================\n",
       "Omnibus:                      102.585   Durbin-Watson:                   0.684\n",
       "Prob(Omnibus):                  0.000   Jarque-Bera (JB):              612.449\n",
       "Skew:                           0.726   Prob(JB):                    1.02e-133\n",
       "Kurtosis:                       8.190   Cond. No.                         58.4\n",
       "==============================================================================\n",
       "\n",
       "Notes:\n",
       "[1] Standard Errors assume that the covariance matrix of the errors is correctly specified.\n",
       "\"\"\""
      ]
     },
     "execution_count": 31,
     "metadata": {},
     "output_type": "execute_result"
    }
   ],
   "source": [
    "m.summary()"
   ]
  },
  {
   "cell_type": "code",
   "execution_count": 8,
   "id": "6ec87df7",
   "metadata": {},
   "outputs": [
    {
     "ename": "ModuleNotFoundError",
     "evalue": "No module named 'pydatasets'",
     "output_type": "error",
     "traceback": [
      "\u001b[1;31m---------------------------------------------------------------------------\u001b[0m",
      "\u001b[1;31mModuleNotFoundError\u001b[0m                       Traceback (most recent call last)",
      "\u001b[1;32m<ipython-input-8-f7b5965a79ab>\u001b[0m in \u001b[0;36m<module>\u001b[1;34m\u001b[0m\n\u001b[1;32m----> 1\u001b[1;33m \u001b[1;32mfrom\u001b[0m \u001b[0mpydatasets\u001b[0m \u001b[1;32mimport\u001b[0m \u001b[0mdata\u001b[0m\u001b[1;33m\u001b[0m\u001b[1;33m\u001b[0m\u001b[0m\n\u001b[0m",
      "\u001b[1;31mModuleNotFoundError\u001b[0m: No module named 'pydatasets'"
     ]
    }
   ],
   "source": [
    "from pydatasets import data"
   ]
  },
  {
   "cell_type": "code",
   "execution_count": 11,
   "id": "6049b977",
   "metadata": {},
   "outputs": [],
   "source": [
    "import pandas as pd\n",
    "from sklearn.datasets import load_boston\n",
    "bost = load_boston()\n",
    "df = pd.DataFrame(data = bost.data, columns = bost.feature_names)\n",
    "df['medv'] = bost.target"
   ]
  },
  {
   "cell_type": "code",
   "execution_count": 12,
   "id": "dff94eeb",
   "metadata": {},
   "outputs": [
    {
     "data": {
      "text/html": [
       "<div>\n",
       "<style scoped>\n",
       "    .dataframe tbody tr th:only-of-type {\n",
       "        vertical-align: middle;\n",
       "    }\n",
       "\n",
       "    .dataframe tbody tr th {\n",
       "        vertical-align: top;\n",
       "    }\n",
       "\n",
       "    .dataframe thead th {\n",
       "        text-align: right;\n",
       "    }\n",
       "</style>\n",
       "<table border=\"1\" class=\"dataframe\">\n",
       "  <thead>\n",
       "    <tr style=\"text-align: right;\">\n",
       "      <th></th>\n",
       "      <th>CRIM</th>\n",
       "      <th>ZN</th>\n",
       "      <th>INDUS</th>\n",
       "      <th>CHAS</th>\n",
       "      <th>NOX</th>\n",
       "      <th>RM</th>\n",
       "      <th>AGE</th>\n",
       "      <th>DIS</th>\n",
       "      <th>RAD</th>\n",
       "      <th>TAX</th>\n",
       "      <th>PTRATIO</th>\n",
       "      <th>B</th>\n",
       "      <th>LSTAT</th>\n",
       "      <th>medv</th>\n",
       "    </tr>\n",
       "  </thead>\n",
       "  <tbody>\n",
       "    <tr>\n",
       "      <th>0</th>\n",
       "      <td>0.00632</td>\n",
       "      <td>18.0</td>\n",
       "      <td>2.31</td>\n",
       "      <td>0.0</td>\n",
       "      <td>0.538</td>\n",
       "      <td>6.575</td>\n",
       "      <td>65.2</td>\n",
       "      <td>4.0900</td>\n",
       "      <td>1.0</td>\n",
       "      <td>296.0</td>\n",
       "      <td>15.3</td>\n",
       "      <td>396.90</td>\n",
       "      <td>4.98</td>\n",
       "      <td>24.0</td>\n",
       "    </tr>\n",
       "    <tr>\n",
       "      <th>1</th>\n",
       "      <td>0.02731</td>\n",
       "      <td>0.0</td>\n",
       "      <td>7.07</td>\n",
       "      <td>0.0</td>\n",
       "      <td>0.469</td>\n",
       "      <td>6.421</td>\n",
       "      <td>78.9</td>\n",
       "      <td>4.9671</td>\n",
       "      <td>2.0</td>\n",
       "      <td>242.0</td>\n",
       "      <td>17.8</td>\n",
       "      <td>396.90</td>\n",
       "      <td>9.14</td>\n",
       "      <td>21.6</td>\n",
       "    </tr>\n",
       "    <tr>\n",
       "      <th>2</th>\n",
       "      <td>0.02729</td>\n",
       "      <td>0.0</td>\n",
       "      <td>7.07</td>\n",
       "      <td>0.0</td>\n",
       "      <td>0.469</td>\n",
       "      <td>7.185</td>\n",
       "      <td>61.1</td>\n",
       "      <td>4.9671</td>\n",
       "      <td>2.0</td>\n",
       "      <td>242.0</td>\n",
       "      <td>17.8</td>\n",
       "      <td>392.83</td>\n",
       "      <td>4.03</td>\n",
       "      <td>34.7</td>\n",
       "    </tr>\n",
       "    <tr>\n",
       "      <th>3</th>\n",
       "      <td>0.03237</td>\n",
       "      <td>0.0</td>\n",
       "      <td>2.18</td>\n",
       "      <td>0.0</td>\n",
       "      <td>0.458</td>\n",
       "      <td>6.998</td>\n",
       "      <td>45.8</td>\n",
       "      <td>6.0622</td>\n",
       "      <td>3.0</td>\n",
       "      <td>222.0</td>\n",
       "      <td>18.7</td>\n",
       "      <td>394.63</td>\n",
       "      <td>2.94</td>\n",
       "      <td>33.4</td>\n",
       "    </tr>\n",
       "    <tr>\n",
       "      <th>4</th>\n",
       "      <td>0.06905</td>\n",
       "      <td>0.0</td>\n",
       "      <td>2.18</td>\n",
       "      <td>0.0</td>\n",
       "      <td>0.458</td>\n",
       "      <td>7.147</td>\n",
       "      <td>54.2</td>\n",
       "      <td>6.0622</td>\n",
       "      <td>3.0</td>\n",
       "      <td>222.0</td>\n",
       "      <td>18.7</td>\n",
       "      <td>396.90</td>\n",
       "      <td>5.33</td>\n",
       "      <td>36.2</td>\n",
       "    </tr>\n",
       "  </tbody>\n",
       "</table>\n",
       "</div>"
      ],
      "text/plain": [
       "      CRIM    ZN  INDUS  CHAS    NOX     RM   AGE     DIS  RAD    TAX  \\\n",
       "0  0.00632  18.0   2.31   0.0  0.538  6.575  65.2  4.0900  1.0  296.0   \n",
       "1  0.02731   0.0   7.07   0.0  0.469  6.421  78.9  4.9671  2.0  242.0   \n",
       "2  0.02729   0.0   7.07   0.0  0.469  7.185  61.1  4.9671  2.0  242.0   \n",
       "3  0.03237   0.0   2.18   0.0  0.458  6.998  45.8  6.0622  3.0  222.0   \n",
       "4  0.06905   0.0   2.18   0.0  0.458  7.147  54.2  6.0622  3.0  222.0   \n",
       "\n",
       "   PTRATIO       B  LSTAT  medv  \n",
       "0     15.3  396.90   4.98  24.0  \n",
       "1     17.8  396.90   9.14  21.6  \n",
       "2     17.8  392.83   4.03  34.7  \n",
       "3     18.7  394.63   2.94  33.4  \n",
       "4     18.7  396.90   5.33  36.2  "
      ]
     },
     "execution_count": 12,
     "metadata": {},
     "output_type": "execute_result"
    }
   ],
   "source": [
    "df.head()"
   ]
  },
  {
   "cell_type": "code",
   "execution_count": 15,
   "id": "736a491b",
   "metadata": {},
   "outputs": [],
   "source": [
    "out = []\n",
    "def outlier(x):\n",
    "    q1 = x.quantile(0.25)\n",
    "    q3 = x.quantile(0.75)\n",
    "    iqr  = q3-q1\n",
    "    infence = q1-(1.5*iqr)\n",
    "    outfence = q3+(1.5*iqr)\n",
    "    for i, j in enumerate(x):\n",
    "        if (j<infence)|(j>outfence):\n",
    "            out.append(i)\n",
    "    return out            "
   ]
  },
  {
   "cell_type": "code",
   "execution_count": 18,
   "id": "5797e95f",
   "metadata": {},
   "outputs": [],
   "source": [
    "df.drop(outlier(df['medv']),inplace=True, axis = 0)"
   ]
  },
  {
   "cell_type": "code",
   "execution_count": 19,
   "id": "a1639e4a",
   "metadata": {},
   "outputs": [
    {
     "data": {
      "text/plain": [
       "(466, 14)"
      ]
     },
     "execution_count": 19,
     "metadata": {},
     "output_type": "execute_result"
    }
   ],
   "source": [
    "df.shape"
   ]
  },
  {
   "cell_type": "code",
   "execution_count": 20,
   "id": "0e985029",
   "metadata": {},
   "outputs": [],
   "source": [
    "from scipy.stats import anderson"
   ]
  },
  {
   "cell_type": "code",
   "execution_count": 21,
   "id": "dee4cd9e",
   "metadata": {},
   "outputs": [
    {
     "data": {
      "text/plain": [
       "AndersonResult(statistic=1.780274539020695, critical_values=array([0.571, 0.65 , 0.78 , 0.91 , 1.083]), significance_level=array([15. , 10. ,  5. ,  2.5,  1. ]))"
      ]
     },
     "execution_count": 21,
     "metadata": {},
     "output_type": "execute_result"
    }
   ],
   "source": [
    "anderson(df.medv)"
   ]
  },
  {
   "cell_type": "code",
   "execution_count": 22,
   "id": "7146cf4f",
   "metadata": {},
   "outputs": [],
   "source": [
    "from scipy import stats"
   ]
  },
  {
   "cell_type": "code",
   "execution_count": 23,
   "id": "769c61b5",
   "metadata": {},
   "outputs": [],
   "source": [
    "res_var, lambda_val = stats.boxcox(df['medv'])"
   ]
  },
  {
   "cell_type": "code",
   "execution_count": 24,
   "id": "0bed5977",
   "metadata": {},
   "outputs": [
    {
     "data": {
      "text/plain": [
       "0.7622647238592852"
      ]
     },
     "execution_count": 24,
     "metadata": {},
     "output_type": "execute_result"
    }
   ],
   "source": [
    "lambda_val"
   ]
  },
  {
   "cell_type": "code",
   "execution_count": 28,
   "id": "949e01d9",
   "metadata": {},
   "outputs": [],
   "source": [
    "or_tr = pd.DataFrame()\n",
    "or_tr['original'] = df.medv.values\n",
    "or_tr['transformed'] = res_var"
   ]
  },
  {
   "cell_type": "code",
   "execution_count": 30,
   "id": "da30de82",
   "metadata": {},
   "outputs": [
    {
     "data": {
      "text/plain": [
       "AndersonResult(statistic=1.5105621443827317, critical_values=array([0.571, 0.65 , 0.78 , 0.91 , 1.083]), significance_level=array([15. , 10. ,  5. ,  2.5,  1. ]))"
      ]
     },
     "execution_count": 30,
     "metadata": {},
     "output_type": "execute_result"
    }
   ],
   "source": [
    "anderson(or_tr['transformed'])"
   ]
  },
  {
   "cell_type": "code",
   "execution_count": 31,
   "id": "b976d0bc",
   "metadata": {},
   "outputs": [],
   "source": [
    "from scipy.stats import kstest\n",
    "from scipy.stats import shapiro"
   ]
  },
  {
   "cell_type": "code",
   "execution_count": 32,
   "id": "6a55a793",
   "metadata": {},
   "outputs": [
    {
     "data": {
      "text/plain": [
       "KstestResult(statistic=0.9998186120071522, pvalue=0.0)"
      ]
     },
     "execution_count": 32,
     "metadata": {},
     "output_type": "execute_result"
    }
   ],
   "source": [
    "kstest(or_tr['transformed'], 'norm')"
   ]
  },
  {
   "cell_type": "code",
   "execution_count": 34,
   "id": "e5c49cf9",
   "metadata": {},
   "outputs": [
    {
     "data": {
      "text/plain": [
       "(ShapiroResult(statistic=0.9890287518501282, pvalue=0.0014550748746842146),\n",
       " ShapiroResult(statistic=0.9860989451408386, pvalue=0.00019688578322529793))"
      ]
     },
     "execution_count": 34,
     "metadata": {},
     "output_type": "execute_result"
    }
   ],
   "source": [
    "shapiro(or_tr['transformed']), shapiro(or_tr['original'])"
   ]
  },
  {
   "cell_type": "code",
   "execution_count": 35,
   "id": "66378eac",
   "metadata": {},
   "outputs": [],
   "source": [
    "x = df.iloc[:,:-1]\n",
    "y = df.iloc[:,-1]\n",
    "from sklearn.model_selection import train_test_split\n",
    "x_train, x_test, y_train,y_test = train_test_split(x,y, test_size=0.3, random_state=0)\n",
    "from statsmodels.formula.api import ols"
   ]
  },
  {
   "cell_type": "code",
   "execution_count": null,
   "id": "2be8c0a3",
   "metadata": {},
   "outputs": [],
   "source": [
    "train_data = pd.concat([x_train, y_train], axis = 1)\n",
    "test_data = pd.concat([x_test, y_test], axis = 1)"
   ]
  },
  {
   "cell_type": "code",
   "execution_count": 41,
   "id": "f6829b8e",
   "metadata": {},
   "outputs": [],
   "source": [
    "lmodel = ols('medv~CRIM+ZN+INDUS+CHAS+NOX+RM+AGE+DIS+RAD+TAX+PTRATIO+B+LSTAT',data=train_data).fit()"
   ]
  },
  {
   "cell_type": "code",
   "execution_count": 48,
   "id": "2c954947",
   "metadata": {},
   "outputs": [],
   "source": [
    "output = lmodel.summary()"
   ]
  },
  {
   "cell_type": "code",
   "execution_count": 57,
   "id": "2db660e6",
   "metadata": {},
   "outputs": [
    {
     "data": {
      "text/html": [
       "<table class=\"simpletable\">\n",
       "<caption>OLS Regression Results</caption>\n",
       "<tr>\n",
       "  <th>Dep. Variable:</th>          <td>medv</td>       <th>  R-squared:         </th> <td>   0.794</td>\n",
       "</tr>\n",
       "<tr>\n",
       "  <th>Model:</th>                   <td>OLS</td>       <th>  Adj. R-squared:    </th> <td>   0.785</td>\n",
       "</tr>\n",
       "<tr>\n",
       "  <th>Method:</th>             <td>Least Squares</td>  <th>  F-statistic:       </th> <td>   92.42</td>\n",
       "</tr>\n",
       "<tr>\n",
       "  <th>Date:</th>             <td>Tue, 13 Apr 2021</td> <th>  Prob (F-statistic):</th> <td>1.30e-98</td>\n",
       "</tr>\n",
       "<tr>\n",
       "  <th>Time:</th>                 <td>15:14:30</td>     <th>  Log-Likelihood:    </th> <td> -818.54</td>\n",
       "</tr>\n",
       "<tr>\n",
       "  <th>No. Observations:</th>      <td>   326</td>      <th>  AIC:               </th> <td>   1665.</td>\n",
       "</tr>\n",
       "<tr>\n",
       "  <th>Df Residuals:</th>          <td>   312</td>      <th>  BIC:               </th> <td>   1718.</td>\n",
       "</tr>\n",
       "<tr>\n",
       "  <th>Df Model:</th>              <td>    13</td>      <th>                     </th>     <td> </td>   \n",
       "</tr>\n",
       "<tr>\n",
       "  <th>Covariance Type:</th>      <td>nonrobust</td>    <th>                     </th>     <td> </td>   \n",
       "</tr>\n",
       "</table>\n",
       "<table class=\"simpletable\">\n",
       "<tr>\n",
       "      <td></td>         <th>coef</th>     <th>std err</th>      <th>t</th>      <th>P>|t|</th>  <th>[0.025</th>    <th>0.975]</th>  \n",
       "</tr>\n",
       "<tr>\n",
       "  <th>Intercept</th> <td>   39.6908</td> <td>    4.157</td> <td>    9.548</td> <td> 0.000</td> <td>   31.512</td> <td>   47.870</td>\n",
       "</tr>\n",
       "<tr>\n",
       "  <th>CRIM</th>      <td>   -0.1212</td> <td>    0.029</td> <td>   -4.236</td> <td> 0.000</td> <td>   -0.178</td> <td>   -0.065</td>\n",
       "</tr>\n",
       "<tr>\n",
       "  <th>ZN</th>        <td>    0.0400</td> <td>    0.012</td> <td>    3.310</td> <td> 0.001</td> <td>    0.016</td> <td>    0.064</td>\n",
       "</tr>\n",
       "<tr>\n",
       "  <th>INDUS</th>     <td>   -0.0531</td> <td>    0.049</td> <td>   -1.074</td> <td> 0.284</td> <td>   -0.150</td> <td>    0.044</td>\n",
       "</tr>\n",
       "<tr>\n",
       "  <th>CHAS</th>      <td>    1.4695</td> <td>    0.747</td> <td>    1.967</td> <td> 0.050</td> <td>   -0.000</td> <td>    2.939</td>\n",
       "</tr>\n",
       "<tr>\n",
       "  <th>NOX</th>       <td>  -11.0660</td> <td>    2.990</td> <td>   -3.701</td> <td> 0.000</td> <td>  -16.949</td> <td>   -5.183</td>\n",
       "</tr>\n",
       "<tr>\n",
       "  <th>RM</th>        <td>    1.9061</td> <td>    0.379</td> <td>    5.026</td> <td> 0.000</td> <td>    1.160</td> <td>    2.652</td>\n",
       "</tr>\n",
       "<tr>\n",
       "  <th>AGE</th>       <td>   -0.0250</td> <td>    0.011</td> <td>   -2.313</td> <td> 0.021</td> <td>   -0.046</td> <td>   -0.004</td>\n",
       "</tr>\n",
       "<tr>\n",
       "  <th>DIS</th>       <td>   -1.2418</td> <td>    0.171</td> <td>   -7.257</td> <td> 0.000</td> <td>   -1.579</td> <td>   -0.905</td>\n",
       "</tr>\n",
       "<tr>\n",
       "  <th>RAD</th>       <td>    0.2027</td> <td>    0.053</td> <td>    3.841</td> <td> 0.000</td> <td>    0.099</td> <td>    0.307</td>\n",
       "</tr>\n",
       "<tr>\n",
       "  <th>TAX</th>       <td>   -0.0104</td> <td>    0.003</td> <td>   -3.394</td> <td> 0.001</td> <td>   -0.016</td> <td>   -0.004</td>\n",
       "</tr>\n",
       "<tr>\n",
       "  <th>PTRATIO</th>   <td>   -0.6918</td> <td>    0.104</td> <td>   -6.664</td> <td> 0.000</td> <td>   -0.896</td> <td>   -0.488</td>\n",
       "</tr>\n",
       "<tr>\n",
       "  <th>B</th>         <td>    0.0086</td> <td>    0.002</td> <td>    3.942</td> <td> 0.000</td> <td>    0.004</td> <td>    0.013</td>\n",
       "</tr>\n",
       "<tr>\n",
       "  <th>LSTAT</th>     <td>   -0.4056</td> <td>    0.042</td> <td>   -9.668</td> <td> 0.000</td> <td>   -0.488</td> <td>   -0.323</td>\n",
       "</tr>\n",
       "</table>\n",
       "<table class=\"simpletable\">\n",
       "<tr>\n",
       "  <th>Omnibus:</th>       <td>27.845</td> <th>  Durbin-Watson:     </th> <td>   1.863</td>\n",
       "</tr>\n",
       "<tr>\n",
       "  <th>Prob(Omnibus):</th> <td> 0.000</td> <th>  Jarque-Bera (JB):  </th> <td>  36.147</td>\n",
       "</tr>\n",
       "<tr>\n",
       "  <th>Skew:</th>          <td> 0.637</td> <th>  Prob(JB):          </th> <td>1.42e-08</td>\n",
       "</tr>\n",
       "<tr>\n",
       "  <th>Kurtosis:</th>      <td> 4.018</td> <th>  Cond. No.          </th> <td>1.53e+04</td>\n",
       "</tr>\n",
       "</table><br/><br/>Notes:<br/>[1] Standard Errors assume that the covariance matrix of the errors is correctly specified.<br/>[2] The condition number is large, 1.53e+04. This might indicate that there are<br/>strong multicollinearity or other numerical problems."
      ],
      "text/plain": [
       "<class 'statsmodels.iolib.summary.Summary'>\n",
       "\"\"\"\n",
       "                            OLS Regression Results                            \n",
       "==============================================================================\n",
       "Dep. Variable:                   medv   R-squared:                       0.794\n",
       "Model:                            OLS   Adj. R-squared:                  0.785\n",
       "Method:                 Least Squares   F-statistic:                     92.42\n",
       "Date:                Tue, 13 Apr 2021   Prob (F-statistic):           1.30e-98\n",
       "Time:                        15:14:30   Log-Likelihood:                -818.54\n",
       "No. Observations:                 326   AIC:                             1665.\n",
       "Df Residuals:                     312   BIC:                             1718.\n",
       "Df Model:                          13                                         \n",
       "Covariance Type:            nonrobust                                         \n",
       "==============================================================================\n",
       "                 coef    std err          t      P>|t|      [0.025      0.975]\n",
       "------------------------------------------------------------------------------\n",
       "Intercept     39.6908      4.157      9.548      0.000      31.512      47.870\n",
       "CRIM          -0.1212      0.029     -4.236      0.000      -0.178      -0.065\n",
       "ZN             0.0400      0.012      3.310      0.001       0.016       0.064\n",
       "INDUS         -0.0531      0.049     -1.074      0.284      -0.150       0.044\n",
       "CHAS           1.4695      0.747      1.967      0.050      -0.000       2.939\n",
       "NOX          -11.0660      2.990     -3.701      0.000     -16.949      -5.183\n",
       "RM             1.9061      0.379      5.026      0.000       1.160       2.652\n",
       "AGE           -0.0250      0.011     -2.313      0.021      -0.046      -0.004\n",
       "DIS           -1.2418      0.171     -7.257      0.000      -1.579      -0.905\n",
       "RAD            0.2027      0.053      3.841      0.000       0.099       0.307\n",
       "TAX           -0.0104      0.003     -3.394      0.001      -0.016      -0.004\n",
       "PTRATIO       -0.6918      0.104     -6.664      0.000      -0.896      -0.488\n",
       "B              0.0086      0.002      3.942      0.000       0.004       0.013\n",
       "LSTAT         -0.4056      0.042     -9.668      0.000      -0.488      -0.323\n",
       "==============================================================================\n",
       "Omnibus:                       27.845   Durbin-Watson:                   1.863\n",
       "Prob(Omnibus):                  0.000   Jarque-Bera (JB):               36.147\n",
       "Skew:                           0.637   Prob(JB):                     1.42e-08\n",
       "Kurtosis:                       4.018   Cond. No.                     1.53e+04\n",
       "==============================================================================\n",
       "\n",
       "Notes:\n",
       "[1] Standard Errors assume that the covariance matrix of the errors is correctly specified.\n",
       "[2] The condition number is large, 1.53e+04. This might indicate that there are\n",
       "strong multicollinearity or other numerical problems.\n",
       "\"\"\""
      ]
     },
     "execution_count": 57,
     "metadata": {},
     "output_type": "execute_result"
    }
   ],
   "source": [
    "output"
   ]
  },
  {
   "cell_type": "code",
   "execution_count": 58,
   "id": "e9aae59a",
   "metadata": {},
   "outputs": [],
   "source": [
    "from statsmodels.stats.diagnostic import het_breuschpagan\n",
    "from statsmodels.stats.diagnostic import het_white\n",
    "from statsmodels.stats.diagnostic import het_goldfeldquandt"
   ]
  },
  {
   "cell_type": "code",
   "execution_count": 60,
   "id": "1bcf9f4c",
   "metadata": {},
   "outputs": [
    {
     "data": {
      "text/plain": [
       "(101.86010691617746,\n",
       " 2.4040495224520963e-16,\n",
       " 10.941728958132417,\n",
       " 2.836555747311473e-19)"
      ]
     },
     "execution_count": 60,
     "metadata": {},
     "output_type": "execute_result"
    }
   ],
   "source": [
    "het_breuschpagan(lmodel.resid, train_data.iloc[:,:-1])"
   ]
  },
  {
   "cell_type": "code",
   "execution_count": 63,
   "id": "db652897",
   "metadata": {},
   "outputs": [
    {
     "ename": "AssertionError",
     "evalue": "",
     "output_type": "error",
     "traceback": [
      "\u001b[1;31m---------------------------------------------------------------------------\u001b[0m",
      "\u001b[1;31mAssertionError\u001b[0m                            Traceback (most recent call last)",
      "\u001b[1;32m<ipython-input-63-cab2fecbc192>\u001b[0m in \u001b[0;36m<module>\u001b[1;34m\u001b[0m\n\u001b[1;32m----> 1\u001b[1;33m \u001b[0mhet_white\u001b[0m\u001b[1;33m(\u001b[0m\u001b[0mlmodel\u001b[0m\u001b[1;33m.\u001b[0m\u001b[0mresid\u001b[0m\u001b[1;33m,\u001b[0m \u001b[0mtrain_data\u001b[0m\u001b[1;33m.\u001b[0m\u001b[0miloc\u001b[0m\u001b[1;33m[\u001b[0m\u001b[1;33m:\u001b[0m\u001b[1;33m,\u001b[0m\u001b[1;33m:\u001b[0m\u001b[1;33m-\u001b[0m\u001b[1;36m1\u001b[0m\u001b[1;33m]\u001b[0m\u001b[1;33m)\u001b[0m\u001b[1;33m\u001b[0m\u001b[1;33m\u001b[0m\u001b[0m\n\u001b[0m",
      "\u001b[1;32mC:\\ProgramData\\Anaconda3\\lib\\site-packages\\statsmodels\\stats\\diagnostic.py\u001b[0m in \u001b[0;36mhet_white\u001b[1;34m(resid, exog)\u001b[0m\n\u001b[0;32m    997\u001b[0m     \u001b[1;31m# df_model checks the rank to determine df\u001b[0m\u001b[1;33m\u001b[0m\u001b[1;33m\u001b[0m\u001b[1;33m\u001b[0m\u001b[0m\n\u001b[0;32m    998\u001b[0m     \u001b[1;31m# extra calculation that can be removed:\u001b[0m\u001b[1;33m\u001b[0m\u001b[1;33m\u001b[0m\u001b[1;33m\u001b[0m\u001b[0m\n\u001b[1;32m--> 999\u001b[1;33m     \u001b[1;32massert\u001b[0m \u001b[0mresols\u001b[0m\u001b[1;33m.\u001b[0m\u001b[0mdf_model\u001b[0m \u001b[1;33m==\u001b[0m \u001b[0mnp\u001b[0m\u001b[1;33m.\u001b[0m\u001b[0mlinalg\u001b[0m\u001b[1;33m.\u001b[0m\u001b[0mmatrix_rank\u001b[0m\u001b[1;33m(\u001b[0m\u001b[0mexog\u001b[0m\u001b[1;33m)\u001b[0m \u001b[1;33m-\u001b[0m \u001b[1;36m1\u001b[0m\u001b[1;33m\u001b[0m\u001b[1;33m\u001b[0m\u001b[0m\n\u001b[0m\u001b[0;32m   1000\u001b[0m     \u001b[0mlmpval\u001b[0m \u001b[1;33m=\u001b[0m \u001b[0mstats\u001b[0m\u001b[1;33m.\u001b[0m\u001b[0mchi2\u001b[0m\u001b[1;33m.\u001b[0m\u001b[0msf\u001b[0m\u001b[1;33m(\u001b[0m\u001b[0mlm\u001b[0m\u001b[1;33m,\u001b[0m \u001b[0mresols\u001b[0m\u001b[1;33m.\u001b[0m\u001b[0mdf_model\u001b[0m\u001b[1;33m)\u001b[0m\u001b[1;33m\u001b[0m\u001b[1;33m\u001b[0m\u001b[0m\n\u001b[0;32m   1001\u001b[0m     \u001b[1;32mreturn\u001b[0m \u001b[0mlm\u001b[0m\u001b[1;33m,\u001b[0m \u001b[0mlmpval\u001b[0m\u001b[1;33m,\u001b[0m \u001b[0mfval\u001b[0m\u001b[1;33m,\u001b[0m \u001b[0mfpval\u001b[0m\u001b[1;33m\u001b[0m\u001b[1;33m\u001b[0m\u001b[0m\n",
      "\u001b[1;31mAssertionError\u001b[0m: "
     ]
    }
   ],
   "source": [
    "het_white(lmodel.resid, train_data.iloc[:,:-1])"
   ]
  },
  {
   "cell_type": "code",
   "execution_count": 64,
   "id": "af742392",
   "metadata": {},
   "outputs": [
    {
     "data": {
      "text/plain": [
       "(1.1319824447552098, 0.22432884984862034, 'increasing')"
      ]
     },
     "execution_count": 64,
     "metadata": {},
     "output_type": "execute_result"
    }
   ],
   "source": [
    "het_goldfeldquandt(train_data.medv, train_data.iloc[:,:-1])"
   ]
  },
  {
   "cell_type": "code",
   "execution_count": 68,
   "id": "945383e1",
   "metadata": {},
   "outputs": [],
   "source": [
    "num = (lmodel.resid - lmodel.resid.shift(1))**2"
   ]
  },
  {
   "cell_type": "code",
   "execution_count": 77,
   "id": "582ffcaa",
   "metadata": {},
   "outputs": [],
   "source": [
    "numer = num.sum()"
   ]
  },
  {
   "cell_type": "code",
   "execution_count": 73,
   "id": "81cfbf85",
   "metadata": {},
   "outputs": [],
   "source": [
    "denom = ((lmodel.resid)**2).sum()"
   ]
  },
  {
   "cell_type": "code",
   "execution_count": 78,
   "id": "c76f10cf",
   "metadata": {},
   "outputs": [
    {
     "data": {
      "text/plain": [
       "1.8627694014288803"
      ]
     },
     "execution_count": 78,
     "metadata": {},
     "output_type": "execute_result"
    }
   ],
   "source": [
    "numer/denom"
   ]
  },
  {
   "cell_type": "code",
   "execution_count": 79,
   "id": "0dd0657b",
   "metadata": {},
   "outputs": [],
   "source": [
    "from statsmodels.stats.stattools import durbin_watson"
   ]
  },
  {
   "cell_type": "code",
   "execution_count": 80,
   "id": "1397f8e2",
   "metadata": {},
   "outputs": [
    {
     "data": {
      "text/plain": [
       "1.8627694014288807"
      ]
     },
     "execution_count": 80,
     "metadata": {},
     "output_type": "execute_result"
    }
   ],
   "source": [
    "durbin_watson(lmodel.resid)"
   ]
  },
  {
   "cell_type": "code",
   "execution_count": 81,
   "id": "13f4e0c4",
   "metadata": {},
   "outputs": [],
   "source": [
    "from statsmodels.stats.outliers_influence import variance_inflation_factor"
   ]
  },
  {
   "cell_type": "code",
   "execution_count": 83,
   "id": "1127c73e",
   "metadata": {},
   "outputs": [],
   "source": [
    "vif_value = []\n",
    "for i in range(x_train.shape[1]):\n",
    "    vif = variance_inflation_factor(x_train.values, i)\n",
    "    vif_value.append(vif)"
   ]
  },
  {
   "cell_type": "code",
   "execution_count": 84,
   "id": "90d6f081",
   "metadata": {},
   "outputs": [
    {
     "data": {
      "text/plain": [
       "[2.0983604005255,\n",
       " 2.826209593019168,\n",
       " 15.089142795189726,\n",
       " 1.142713242279515,\n",
       " 74.26873323879937,\n",
       " 91.83385558844198,\n",
       " 22.497329633741632,\n",
       " 15.86689931980289,\n",
       " 15.67896371203807,\n",
       " 64.94725420798977,\n",
       " 94.25807258335179,\n",
       " 20.935910071349024,\n",
       " 12.032354653672817]"
      ]
     },
     "execution_count": 84,
     "metadata": {},
     "output_type": "execute_result"
    }
   ],
   "source": [
    "vif_value"
   ]
  },
  {
   "cell_type": "code",
   "execution_count": 92,
   "id": "d36fef8c",
   "metadata": {},
   "outputs": [],
   "source": [
    "from sklearn.decomposition import PCA\n",
    "from sklearn.preprocessing import StandardScaler\n",
    "sc = StandardScaler().fit(x_train)\n",
    "sc_train_array = sc.transform(x_train)\n",
    "pc = PCA().fit(sc_train_array)\n",
    "pc_train_array = pc.transform(sc_train_array)\n",
    "pc_train = pd.DataFrame(data=pc_train_array, columns=['PC1','PC2','PC3','PC4','PC5','PC6','PC7','PC8','PC9','PC10','PC11','PC12','PC13'])"
   ]
  },
  {
   "cell_type": "code",
   "execution_count": 89,
   "id": "bf020a9c",
   "metadata": {
    "scrolled": true
   },
   "outputs": [
    {
     "name": "stdout",
     "output_type": "stream",
     "text": [
      "'PC1','PC2','PC3','PC4','PC5','PC6','PC7','PC8','PC9','PC10','PC11','PC12',"
     ]
    }
   ],
   "source": [
    "for i in range(1, x_train.shape[1]):\n",
    "    print(\"'PC%s'\"%i, end =',')"
   ]
  },
  {
   "cell_type": "code",
   "execution_count": 96,
   "id": "82f6f376",
   "metadata": {},
   "outputs": [],
   "source": [
    "#pc.explained_variance_ratio_.cumsum()"
   ]
  },
  {
   "cell_type": "code",
   "execution_count": 95,
   "id": "a1233d48",
   "metadata": {},
   "outputs": [],
   "source": [
    "pc_train['transformed'] = or_tr['transformed']\n",
    "sc_test_array = sc.transform(x_test)\n",
    "pc_test_array = pc.transform(sc_test_array)\n",
    "pc_test = pd.DataFrame(data=pc_test_array, columns=['PC1','PC2','PC3','PC4','PC5','PC6','PC7','PC8','PC9','PC10','PC11','PC12','PC13'])"
   ]
  },
  {
   "cell_type": "code",
   "execution_count": 97,
   "id": "64264802",
   "metadata": {},
   "outputs": [],
   "source": [
    "tr_test_y = (y_test.values**lambda_val-1)/lambda_val"
   ]
  },
  {
   "cell_type": "code",
   "execution_count": 99,
   "id": "991d8531",
   "metadata": {},
   "outputs": [],
   "source": [
    "pc_test['tr_response'] = tr_test_y"
   ]
  },
  {
   "cell_type": "code",
   "execution_count": 103,
   "id": "95f2081d",
   "metadata": {},
   "outputs": [],
   "source": [
    "lmodel_pc = ols('transformed~PC1+PC2+PC3+PC4+PC5+PC6+PC7+PC8+PC9+PC10', data=pc_train).fit()"
   ]
  },
  {
   "cell_type": "code",
   "execution_count": 106,
   "id": "6931d78e",
   "metadata": {},
   "outputs": [],
   "source": [
    "pred_train = lmodel_pc.predict(pc_train)\n",
    "pred_test = lmodel_pc.predict(pc_test) "
   ]
  },
  {
   "cell_type": "code",
   "execution_count": 107,
   "id": "850cdf4f",
   "metadata": {},
   "outputs": [],
   "source": [
    "from sklearn.metrics import mean_squared_error\n",
    "train_mse = mean_squared_error(pc_train['transformed'],pred_train)\n",
    "test_mse = mean_squared_error(pc_test['tr_response'], pred_test)"
   ]
  },
  {
   "cell_type": "code",
   "execution_count": 109,
   "id": "ba5c4f8c",
   "metadata": {},
   "outputs": [
    {
     "data": {
      "text/plain": [
       "(2.5329625084762233, 3.326756847989232)"
      ]
     },
     "execution_count": 109,
     "metadata": {},
     "output_type": "execute_result"
    }
   ],
   "source": [
    "import numpy as np\n",
    "np.sqrt(train_mse), np.sqrt(test_mse)"
   ]
  },
  {
   "cell_type": "code",
   "execution_count": 129,
   "id": "e9273903",
   "metadata": {},
   "outputs": [
    {
     "data": {
      "image/png": "[encoded data removed]",
      "text/plain": [
       "<Figure size 576x396 with 1 Axes>"
      ]
     },
     "metadata": {},
     "output_type": "display_data"
    },
    {
     "data": {
      "text/plain": [
       "<AxesSubplot:title={'center':\"Cook's Distance Outlier Detection\"}, xlabel='instance index', ylabel='influence (I)'>"
      ]
     },
     "execution_count": 129,
     "metadata": {},
     "output_type": "execute_result"
    }
   ],
   "source": [
    "from yellowbrick.regressor import CooksDistance\n",
    "visualizer = CooksDistance()\n",
    "visualizer.fit(x_train, y_train)\n",
    "visualizer.show()"
   ]
  },
  {
   "cell_type": "code",
   "execution_count": 128,
   "id": "362dc4fc",
   "metadata": {},
   "outputs": [],
   "source": [
    "x_train = x_train.reset_index(drop=True)\n",
    "y_train = y_train .reset_index(drop=True)"
   ]
  },
  {
   "cell_type": "code",
   "execution_count": 115,
   "id": "ad0495cd",
   "metadata": {},
   "outputs": [
    {
     "data": {
      "text/plain": [
       "0.012269938650306749"
      ]
     },
     "execution_count": 115,
     "metadata": {},
     "output_type": "execute_result"
    }
   ],
   "source": [
    "4/326"
   ]
  },
  {
   "cell_type": "code",
   "execution_count": 116,
   "id": "622791c1",
   "metadata": {},
   "outputs": [
    {
     "data": {
      "text/plain": [
       "0.012269938650306749"
      ]
     },
     "execution_count": 116,
     "metadata": {},
     "output_type": "execute_result"
    },
    {
     "data": {
      "text/plain": [
       "<Figure size 576x396 with 0 Axes>"
      ]
     },
     "metadata": {},
     "output_type": "display_data"
    }
   ],
   "source": [
    "visualizer.influence_threshold_"
   ]
  },
  {
   "cell_type": "code",
   "execution_count": 118,
   "id": "d40f1c84",
   "metadata": {},
   "outputs": [],
   "source": [
    "cooksd = visualizer.distance_"
   ]
  },
  {
   "cell_type": "code",
   "execution_count": 130,
   "id": "a8f492a9",
   "metadata": {},
   "outputs": [],
   "source": [
    "out_cook = []\n",
    "for i,j in enumerate(cooksd):\n",
    "    if j > visualizer.influence_threshold_:\n",
    "        out_cook.append(i)"
   ]
  },
  {
   "cell_type": "code",
   "execution_count": 131,
   "id": "ff8821f3",
   "metadata": {},
   "outputs": [
    {
     "data": {
      "text/plain": [
       "[25,\n",
       " 31,\n",
       " 40,\n",
       " 68,\n",
       " 103,\n",
       " 110,\n",
       " 123,\n",
       " 154,\n",
       " 159,\n",
       " 162,\n",
       " 163,\n",
       " 165,\n",
       " 220,\n",
       " 233,\n",
       " 272,\n",
       " 275,\n",
       " 292,\n",
       " 305,\n",
       " 325]"
      ]
     },
     "execution_count": 131,
     "metadata": {},
     "output_type": "execute_result"
    }
   ],
   "source": [
    "out_cook"
   ]
  },
  {
   "cell_type": "code",
   "execution_count": 132,
   "id": "ef3ded46",
   "metadata": {},
   "outputs": [],
   "source": [
    "x_train_new = x_train.drop(index=out_cook, axis=0)"
   ]
  },
  {
   "cell_type": "code",
   "execution_count": 133,
   "id": "57a16ce0",
   "metadata": {},
   "outputs": [
    {
     "data": {
      "text/html": [
       "<div>\n",
       "<style scoped>\n",
       "    .dataframe tbody tr th:only-of-type {\n",
       "        vertical-align: middle;\n",
       "    }\n",
       "\n",
       "    .dataframe tbody tr th {\n",
       "        vertical-align: top;\n",
       "    }\n",
       "\n",
       "    .dataframe thead th {\n",
       "        text-align: right;\n",
       "    }\n",
       "</style>\n",
       "<table border=\"1\" class=\"dataframe\">\n",
       "  <thead>\n",
       "    <tr style=\"text-align: right;\">\n",
       "      <th></th>\n",
       "      <th>CRIM</th>\n",
       "      <th>ZN</th>\n",
       "      <th>INDUS</th>\n",
       "      <th>CHAS</th>\n",
       "      <th>NOX</th>\n",
       "      <th>RM</th>\n",
       "      <th>AGE</th>\n",
       "      <th>DIS</th>\n",
       "      <th>RAD</th>\n",
       "      <th>TAX</th>\n",
       "      <th>PTRATIO</th>\n",
       "      <th>B</th>\n",
       "      <th>LSTAT</th>\n",
       "    </tr>\n",
       "  </thead>\n",
       "  <tbody>\n",
       "    <tr>\n",
       "      <th>0</th>\n",
       "      <td>88.97620</td>\n",
       "      <td>0.0</td>\n",
       "      <td>18.10</td>\n",
       "      <td>0.0</td>\n",
       "      <td>0.6710</td>\n",
       "      <td>6.968</td>\n",
       "      <td>91.9</td>\n",
       "      <td>1.4165</td>\n",
       "      <td>24.0</td>\n",
       "      <td>666.0</td>\n",
       "      <td>20.2</td>\n",
       "      <td>396.90</td>\n",
       "      <td>17.21</td>\n",
       "    </tr>\n",
       "    <tr>\n",
       "      <th>1</th>\n",
       "      <td>1.27346</td>\n",
       "      <td>0.0</td>\n",
       "      <td>19.58</td>\n",
       "      <td>1.0</td>\n",
       "      <td>0.6050</td>\n",
       "      <td>6.250</td>\n",
       "      <td>92.6</td>\n",
       "      <td>1.7984</td>\n",
       "      <td>5.0</td>\n",
       "      <td>403.0</td>\n",
       "      <td>14.7</td>\n",
       "      <td>338.92</td>\n",
       "      <td>5.50</td>\n",
       "    </tr>\n",
       "    <tr>\n",
       "      <th>2</th>\n",
       "      <td>9.59571</td>\n",
       "      <td>0.0</td>\n",
       "      <td>18.10</td>\n",
       "      <td>0.0</td>\n",
       "      <td>0.6930</td>\n",
       "      <td>6.404</td>\n",
       "      <td>100.0</td>\n",
       "      <td>1.6390</td>\n",
       "      <td>24.0</td>\n",
       "      <td>666.0</td>\n",
       "      <td>20.2</td>\n",
       "      <td>376.11</td>\n",
       "      <td>20.31</td>\n",
       "    </tr>\n",
       "    <tr>\n",
       "      <th>3</th>\n",
       "      <td>0.10612</td>\n",
       "      <td>30.0</td>\n",
       "      <td>4.93</td>\n",
       "      <td>0.0</td>\n",
       "      <td>0.4280</td>\n",
       "      <td>6.095</td>\n",
       "      <td>65.1</td>\n",
       "      <td>6.3361</td>\n",
       "      <td>6.0</td>\n",
       "      <td>300.0</td>\n",
       "      <td>16.6</td>\n",
       "      <td>394.62</td>\n",
       "      <td>12.40</td>\n",
       "    </tr>\n",
       "    <tr>\n",
       "      <th>4</th>\n",
       "      <td>0.27957</td>\n",
       "      <td>0.0</td>\n",
       "      <td>9.69</td>\n",
       "      <td>0.0</td>\n",
       "      <td>0.5850</td>\n",
       "      <td>5.926</td>\n",
       "      <td>42.6</td>\n",
       "      <td>2.3817</td>\n",
       "      <td>6.0</td>\n",
       "      <td>391.0</td>\n",
       "      <td>19.2</td>\n",
       "      <td>396.90</td>\n",
       "      <td>13.59</td>\n",
       "    </tr>\n",
       "    <tr>\n",
       "      <th>...</th>\n",
       "      <td>...</td>\n",
       "      <td>...</td>\n",
       "      <td>...</td>\n",
       "      <td>...</td>\n",
       "      <td>...</td>\n",
       "      <td>...</td>\n",
       "      <td>...</td>\n",
       "      <td>...</td>\n",
       "      <td>...</td>\n",
       "      <td>...</td>\n",
       "      <td>...</td>\n",
       "      <td>...</td>\n",
       "      <td>...</td>\n",
       "    </tr>\n",
       "    <tr>\n",
       "      <th>320</th>\n",
       "      <td>0.03705</td>\n",
       "      <td>20.0</td>\n",
       "      <td>3.33</td>\n",
       "      <td>0.0</td>\n",
       "      <td>0.4429</td>\n",
       "      <td>6.968</td>\n",
       "      <td>37.2</td>\n",
       "      <td>5.2447</td>\n",
       "      <td>5.0</td>\n",
       "      <td>216.0</td>\n",
       "      <td>14.9</td>\n",
       "      <td>392.23</td>\n",
       "      <td>4.59</td>\n",
       "    </tr>\n",
       "    <tr>\n",
       "      <th>321</th>\n",
       "      <td>8.98296</td>\n",
       "      <td>0.0</td>\n",
       "      <td>18.10</td>\n",
       "      <td>1.0</td>\n",
       "      <td>0.7700</td>\n",
       "      <td>6.212</td>\n",
       "      <td>97.4</td>\n",
       "      <td>2.1222</td>\n",
       "      <td>24.0</td>\n",
       "      <td>666.0</td>\n",
       "      <td>20.2</td>\n",
       "      <td>377.73</td>\n",
       "      <td>17.60</td>\n",
       "    </tr>\n",
       "    <tr>\n",
       "      <th>322</th>\n",
       "      <td>0.13587</td>\n",
       "      <td>0.0</td>\n",
       "      <td>10.59</td>\n",
       "      <td>1.0</td>\n",
       "      <td>0.4890</td>\n",
       "      <td>6.064</td>\n",
       "      <td>59.1</td>\n",
       "      <td>4.2392</td>\n",
       "      <td>4.0</td>\n",
       "      <td>277.0</td>\n",
       "      <td>18.6</td>\n",
       "      <td>381.32</td>\n",
       "      <td>14.66</td>\n",
       "    </tr>\n",
       "    <tr>\n",
       "      <th>323</th>\n",
       "      <td>0.14476</td>\n",
       "      <td>0.0</td>\n",
       "      <td>10.01</td>\n",
       "      <td>0.0</td>\n",
       "      <td>0.5470</td>\n",
       "      <td>5.731</td>\n",
       "      <td>65.2</td>\n",
       "      <td>2.7592</td>\n",
       "      <td>6.0</td>\n",
       "      <td>432.0</td>\n",
       "      <td>17.8</td>\n",
       "      <td>391.50</td>\n",
       "      <td>13.61</td>\n",
       "    </tr>\n",
       "    <tr>\n",
       "      <th>324</th>\n",
       "      <td>0.22927</td>\n",
       "      <td>0.0</td>\n",
       "      <td>6.91</td>\n",
       "      <td>0.0</td>\n",
       "      <td>0.4480</td>\n",
       "      <td>6.030</td>\n",
       "      <td>85.5</td>\n",
       "      <td>5.6894</td>\n",
       "      <td>3.0</td>\n",
       "      <td>233.0</td>\n",
       "      <td>17.9</td>\n",
       "      <td>392.74</td>\n",
       "      <td>18.80</td>\n",
       "    </tr>\n",
       "  </tbody>\n",
       "</table>\n",
       "<p>307 rows × 13 columns</p>\n",
       "</div>"
      ],
      "text/plain": [
       "         CRIM    ZN  INDUS  CHAS     NOX     RM    AGE     DIS   RAD    TAX  \\\n",
       "0    88.97620   0.0  18.10   0.0  0.6710  6.968   91.9  1.4165  24.0  666.0   \n",
       "1     1.27346   0.0  19.58   1.0  0.6050  6.250   92.6  1.7984   5.0  403.0   \n",
       "2     9.59571   0.0  18.10   0.0  0.6930  6.404  100.0  1.6390  24.0  666.0   \n",
       "3     0.10612  30.0   4.93   0.0  0.4280  6.095   65.1  6.3361   6.0  300.0   \n",
       "4     0.27957   0.0   9.69   0.0  0.5850  5.926   42.6  2.3817   6.0  391.0   \n",
       "..        ...   ...    ...   ...     ...    ...    ...     ...   ...    ...   \n",
       "320   0.03705  20.0   3.33   0.0  0.4429  6.968   37.2  5.2447   5.0  216.0   \n",
       "321   8.98296   0.0  18.10   1.0  0.7700  6.212   97.4  2.1222  24.0  666.0   \n",
       "322   0.13587   0.0  10.59   1.0  0.4890  6.064   59.1  4.2392   4.0  277.0   \n",
       "323   0.14476   0.0  10.01   0.0  0.5470  5.731   65.2  2.7592   6.0  432.0   \n",
       "324   0.22927   0.0   6.91   0.0  0.4480  6.030   85.5  5.6894   3.0  233.0   \n",
       "\n",
       "     PTRATIO       B  LSTAT  \n",
       "0       20.2  396.90  17.21  \n",
       "1       14.7  338.92   5.50  \n",
       "2       20.2  376.11  20.31  \n",
       "3       16.6  394.62  12.40  \n",
       "4       19.2  396.90  13.59  \n",
       "..       ...     ...    ...  \n",
       "320     14.9  392.23   4.59  \n",
       "321     20.2  377.73  17.60  \n",
       "322     18.6  381.32  14.66  \n",
       "323     17.8  391.50  13.61  \n",
       "324     17.9  392.74  18.80  \n",
       "\n",
       "[307 rows x 13 columns]"
      ]
     },
     "execution_count": 133,
     "metadata": {},
     "output_type": "execute_result"
    }
   ],
   "source": [
    "x_train_new"
   ]
  },
  {
   "cell_type": "code",
   "execution_count": 135,
   "id": "496322ba",
   "metadata": {},
   "outputs": [],
   "source": [
    "infl = lmodel.get_influence()"
   ]
  },
  {
   "cell_type": "code",
   "execution_count": 140,
   "id": "02f09bb2",
   "metadata": {},
   "outputs": [
    {
     "data": {
      "text/plain": [
       "Index(['dfb_Intercept', 'dfb_CRIM', 'dfb_ZN', 'dfb_INDUS', 'dfb_CHAS',\n",
       "       'dfb_NOX', 'dfb_RM', 'dfb_AGE', 'dfb_DIS', 'dfb_RAD', 'dfb_TAX',\n",
       "       'dfb_PTRATIO', 'dfb_B', 'dfb_LSTAT', 'cooks_d', 'standard_resid',\n",
       "       'hat_diag', 'dffits_internal', 'student_resid', 'dffits'],\n",
       "      dtype='object')"
      ]
     },
     "execution_count": 140,
     "metadata": {},
     "output_type": "execute_result"
    }
   ],
   "source": [
    "cook_diffit  = infl.summary_frame()\n",
    "cook_diffit.columns"
   ]
  },
  {
   "cell_type": "code",
   "execution_count": 142,
   "id": "da3d4fc6",
   "metadata": {},
   "outputs": [
    {
     "data": {
      "text/html": [
       "<div>\n",
       "<style scoped>\n",
       "    .dataframe tbody tr th:only-of-type {\n",
       "        vertical-align: middle;\n",
       "    }\n",
       "\n",
       "    .dataframe tbody tr th {\n",
       "        vertical-align: top;\n",
       "    }\n",
       "\n",
       "    .dataframe thead th {\n",
       "        text-align: right;\n",
       "    }\n",
       "</style>\n",
       "<table border=\"1\" class=\"dataframe\">\n",
       "  <thead>\n",
       "    <tr style=\"text-align: right;\">\n",
       "      <th></th>\n",
       "      <th>cooks_d</th>\n",
       "      <th>dffits</th>\n",
       "    </tr>\n",
       "  </thead>\n",
       "  <tbody>\n",
       "    <tr>\n",
       "      <th>380</th>\n",
       "      <td>0.001469</td>\n",
       "      <td>0.143187</td>\n",
       "    </tr>\n",
       "    <tr>\n",
       "      <th>160</th>\n",
       "      <td>0.000879</td>\n",
       "      <td>-0.110790</td>\n",
       "    </tr>\n",
       "    <tr>\n",
       "      <th>402</th>\n",
       "      <td>0.003199</td>\n",
       "      <td>-0.212033</td>\n",
       "    </tr>\n",
       "    <tr>\n",
       "      <th>241</th>\n",
       "      <td>0.001502</td>\n",
       "      <td>-0.145013</td>\n",
       "    </tr>\n",
       "    <tr>\n",
       "      <th>494</th>\n",
       "      <td>0.001922</td>\n",
       "      <td>0.163997</td>\n",
       "    </tr>\n",
       "    <tr>\n",
       "      <th>...</th>\n",
       "      <td>...</td>\n",
       "      <td>...</td>\n",
       "    </tr>\n",
       "    <tr>\n",
       "      <th>356</th>\n",
       "      <td>0.000080</td>\n",
       "      <td>0.033467</td>\n",
       "    </tr>\n",
       "    <tr>\n",
       "      <th>208</th>\n",
       "      <td>0.002260</td>\n",
       "      <td>0.177725</td>\n",
       "    </tr>\n",
       "    <tr>\n",
       "      <th>119</th>\n",
       "      <td>0.000560</td>\n",
       "      <td>-0.088497</td>\n",
       "    </tr>\n",
       "    <tr>\n",
       "      <th>47</th>\n",
       "      <td>0.000761</td>\n",
       "      <td>-0.103103</td>\n",
       "    </tr>\n",
       "    <tr>\n",
       "      <th>181</th>\n",
       "      <td>0.019479</td>\n",
       "      <td>0.529485</td>\n",
       "    </tr>\n",
       "  </tbody>\n",
       "</table>\n",
       "<p>326 rows × 2 columns</p>\n",
       "</div>"
      ],
      "text/plain": [
       "      cooks_d    dffits\n",
       "380  0.001469  0.143187\n",
       "160  0.000879 -0.110790\n",
       "402  0.003199 -0.212033\n",
       "241  0.001502 -0.145013\n",
       "494  0.001922  0.163997\n",
       "..        ...       ...\n",
       "356  0.000080  0.033467\n",
       "208  0.002260  0.177725\n",
       "119  0.000560 -0.088497\n",
       "47   0.000761 -0.103103\n",
       "181  0.019479  0.529485\n",
       "\n",
       "[326 rows x 2 columns]"
      ]
     },
     "execution_count": 142,
     "metadata": {},
     "output_type": "execute_result"
    }
   ],
   "source": [
    "cook_diffit[['cooks_d','dffits']]"
   ]
  },
  {
   "cell_type": "code",
   "execution_count": null,
   "id": "b53f7687",
   "metadata": {},
   "outputs": [],
   "source": []
  }
 ],
 "metadata": {
  "kernelspec": {
   "display_name": "Python 3",
   "language": "python",
   "name": "python3"
  },
  "language_info": {
   "codemirror_mode": {
    "name": "ipython",
    "version": 3
   },
   "file_extension": ".py",
   "mimetype": "text/x-python",
   "name": "python",
   "nbconvert_exporter": "python",
   "pygments_lexer": "ipython3",
   "version": "3.8.8"
  },
  "varInspector": {
   "cols": {
    "lenName": 16,
    "lenType": 16,
    "lenVar": 40
   },
   "kernels_config": {
    "python": {
     "delete_cmd_postfix": "",
     "delete_cmd_prefix": "del ",
     "library": "var_list.py",
     "varRefreshCmd": "print(var_dic_list())"
    },
    "r": {
     "delete_cmd_postfix": ") ",
     "delete_cmd_prefix": "rm(",
     "library": "var_list.r",
     "varRefreshCmd": "cat(var_dic_list()) "
    }
   },
   "types_to_exclude": [
    "module",
    "function",
    "builtin_function_or_method",
    "instance",
    "_Feature"
   ],
   "window_display": false
  }
 },
 "nbformat": 4,
 "nbformat_minor": 5
}
